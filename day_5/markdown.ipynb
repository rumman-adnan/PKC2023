{
 "cells": [
  {
   "cell_type": "code",
   "execution_count": null,
   "metadata": {},
   "outputs": [],
   "source": [
    "# This is digital notebook, how you have to save your code digitally. Text bold, italic, underline, strikethrough, heading, code, quote, link, image, table, list, horizontal rule, math, task list, checkbox, details, emoji, gist, html, latex, mermaid, flowchart, sequence, mindmap, chart, uml, vega, vega-lite, youtube, pdf, audio, video, iframe, javascript, css, plantuml, mindmap, chart, uml, vega, vega-lite, youtube, pdf, audio, video, iframe, javascript, css, plantuml, mindmap, chart, uml, vega, vega-lite, youtube, pdf, audio, video, iframe, javascript, css, plantuml, mindmap, chart, uml, vega, vega-lite, youtube, pdf, audio, video, iframe, javascript, css, plantuml, mindmap, chart, uml, vega, vega-lite, youtube, pdf, audio, video, iframe, javascript, css, plantuml, mindmap, chart, uml, vega, vega-lite, youtube, pdf, audio, video, iframe, javascript, css, plantuml, mindmap, chart, uml, vega, vega-lite, youtube, pdf, audio, video, iframe, javascript, css, plantuml, mindmap, chart, uml, vega, vega-lite, youtube, pdf, audio, video, iframe, javascript, css, plantuml, mindmap, chart, uml, vega, vega-lite, youtube, pdf, audio, video, iframe, javascript, css, plantuml, mindmap, chart, uml, vega, vega-lite, youtube, pdf, audio, video, iframe, javascript, css, plantuml, mindmap, chart, uml, vega, vega-lite, youtube, pdf, audio, video, iframe, javascript, css, plantuml, mindmap, chart, uml, vega, vega-lite, youtube, pdf, audio, video, iframe, javascript, css, plantuml, mindmap, chart, uml, vega, vega-lite, youtube, pdf, audio, video, iframe, javascript, css, plantuml, mindmap, chart, uml, vega, vega-lite, youtube, pdf, audio, video, iframe, javascript, css, plantuml, mindmap,\n",
    "# markdown = \"\"\"# Path: day_5\\markdown.ipynb\n",
    "# It is used to make github readme files. \n",
    "# We can use it to make our code more readable. and can be learn easily in less time.\n",
    "# difference between word and markdown\n",
    "# It is used to make github readme files.   "
   ]
  }
 ],
 "metadata": {
  "kernelspec": {
   "display_name": "Python 3",
   "language": "python",
   "name": "python3"
  },
  "language_info": {
   "name": "python",
   "version": "3.11.1 (tags/v3.11.1:a7a450f, Dec  6 2022, 19:58:39) [MSC v.1934 64 bit (AMD64)]"
  },
  "orig_nbformat": 4,
  "vscode": {
   "interpreter": {
    "hash": "b98f472bb8ba48098397e3b897b5be76f7bf0e62d98845cdb0e8066dc5677259"
   }
  }
 },
 "nbformat": 4,
 "nbformat_minor": 2
}
