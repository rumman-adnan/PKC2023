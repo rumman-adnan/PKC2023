{
 "cells": [
  {
   "attachments": {},
   "cell_type": "markdown",
   "metadata": {},
   "source": [
    "# Data Wrangling\n",
    "Data wrangling is the process of converting data from the initial format to a format that may be better for analysis. In this section, we will learn how to load data into Python, how to manipulate data, and how to clean data.\n",
    "It is the process of cleaning, transforming, and modeling data with the goal of discovering useful information, informing conclusions, and supporting decision-making. in an unstructured data format into a structured data format. data wrangling helps to make data more accessible and useful for analysis and decision making. "
   ]
  },
  {
   "attachments": {},
   "cell_type": "markdown",
   "metadata": {},
   "source": [
    "## Steps\n",
    "1. Data Collection (Data Extraction, What data)\n",
    "2. Tools to clean data(which things to use for cleaning) Libraries - Libraries\n",
    "3. How to clean data (Steps to clean data)"
   ]
  },
  {
   "cell_type": "code",
   "execution_count": null,
   "metadata": {},
   "outputs": [],
   "source": []
  }
 ],
 "metadata": {
  "kernelspec": {
   "display_name": "Python 3",
   "language": "python",
   "name": "python3"
  },
  "language_info": {
   "name": "python",
   "version": "3.11.1 (tags/v3.11.1:a7a450f, Dec  6 2022, 19:58:39) [MSC v.1934 64 bit (AMD64)]"
  },
  "orig_nbformat": 4,
  "vscode": {
   "interpreter": {
    "hash": "b98f472bb8ba48098397e3b897b5be76f7bf0e62d98845cdb0e8066dc5677259"
   }
  }
 },
 "nbformat": 4,
 "nbformat_minor": 2
}
